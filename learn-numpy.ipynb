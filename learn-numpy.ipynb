{
 "cells": [
  {
   "cell_type": "code",
   "execution_count": 2,
   "id": "3e7ee2ee-7da1-4c03-98fc-60e29a875604",
   "metadata": {},
   "outputs": [],
   "source": [
    "# import it \n",
    "import numpy as np"
   ]
  },
  {
   "cell_type": "code",
   "execution_count": 26,
   "id": "6005a10f-b232-4b8d-b80c-007cc3cbf811",
   "metadata": {},
   "outputs": [
    {
     "name": "stdout",
     "output_type": "stream",
     "text": [
      "[1 2 3]\n",
      "[[1 2 3]\n",
      " [4 5 6]]\n",
      "1 2\n",
      "[[0. 0. 0. 0.]\n",
      " [0. 0. 0. 0.]]\n",
      "[[1. 1. 1.]\n",
      " [1. 1. 1.]\n",
      " [1. 1. 1.]]\n",
      "[[1. 0. 0. 0.]\n",
      " [0. 1. 0. 0.]\n",
      " [0. 0. 1. 0.]\n",
      " [0. 0. 0. 1.]]\n",
      "[0 1 2 3 4 5 6 7 8 9]\n",
      "[ 2  3  4  5  6  7  8  9 10 11 12 13 14]\n",
      "[ 4  7 10 13 16]\n",
      "[10.         11.11111111 12.22222222 13.33333333 14.44444444 15.55555556\n",
      " 16.66666667 17.77777778 18.88888889 20.        ]\n",
      "[0 1 2 3 4 5 6 7 8 9]\n"
     ]
    }
   ],
   "source": [
    "### Arrays on Numpy library\n",
    "\n",
    "# crate a 1D arr\n",
    "arr1 = np.array([1,2,3])   \n",
    "print(arr1)\n",
    "\n",
    "# crate a 2D arr\n",
    "arr2 = np.array([[1,2,3], [4,5,6]])\n",
    "print(arr2)\n",
    "a = np.ndim(arr1)\n",
    "b = np.ndim(arr2)\n",
    "print(a, b)\n",
    "\n",
    "# creatign a array of zeroes \n",
    "arr3 = np.zeros((2,4)) # 2 rows and 4 columns\n",
    "print(arr3)\n",
    "\n",
    "# all one \n",
    "arr4 = np.ones((3,3))\n",
    "print(arr4)\n",
    "\n",
    "arr5 = np.identity(4)    # made a diagonal matrix with all 1s\n",
    "print(arr5)\n",
    "\n",
    "# get continuous array \n",
    "arr6 = np.arange(10)   #generate a list in given range - default 0 \n",
    "print(arr6)\n",
    "arr7 = np.arange(2,15)  #initial and final values \n",
    "print(arr7)\n",
    "arr8 = np.arange(4,17, 3)  #with the gaps\n",
    "print(arr8)\n",
    "\n",
    "# one more with lower, upper range and equidistance with adj element \n",
    "arr9 = np.linspace(10, 20, 10)\n",
    "print(arr9)\n",
    "\n",
    "arr10 = arr6.copy()\n",
    "print(arr10)"
   ]
  },
  {
   "cell_type": "code",
   "execution_count": 51,
   "id": "c8a89f56-3727-427a-af38-035310ce5ce8",
   "metadata": {},
   "outputs": [
    {
     "name": "stdout",
     "output_type": "stream",
     "text": [
      "8\n",
      "[[[1. 2.]\n",
      "  [3. 4.]]\n",
      "\n",
      " [[5. 6.]\n",
      "  [7. 8.]]]\n"
     ]
    }
   ],
   "source": [
    "### arritbutes and shapes \n",
    "\n",
    "arr2.shape   # rows and cols\n",
    "arr = np.array([[[1,2],[3,4]], [[5,6],[7,8]]])\n",
    "arr.shape\n",
    "\n",
    "arr.ndim      # ---> 3 \n",
    "arr2.ndim    # ---> 2\n",
    "\n",
    "arr.size       # (no.s of items) 8 \n",
    "b = arr.itemsize  # datatype size like int - 4 , float - 8\n",
    "print(b)\n",
    "\n",
    "# dtype\n",
    "arr.dtype    # --> dtype('int64')\n",
    "\n",
    "# convert datatype\n",
    "arr12 = arr.astype('float')\n",
    "print(arr12)\n",
    "\n",
    "# "
   ]
  },
  {
   "cell_type": "code",
   "execution_count": 57,
   "id": "fed2ea3f-f2ad-419f-b676-e982c0b2530c",
   "metadata": {},
   "outputs": [
    {
     "name": "stdout",
     "output_type": "stream",
     "text": [
      "2800\n",
      "800\n",
      "0.0210723876953125\n",
      "0.00041294097900390625\n"
     ]
    }
   ],
   "source": [
    "### python list vs numpy array \n",
    "# 1. numpy array store less space then a list \n",
    "lista = range(100)\n",
    "arr13 = np.arange(100)\n",
    "\n",
    "import sys\n",
    "print(sys.getsizeof(87) * len(lista))\n",
    "\n",
    "print(arr13.itemsize * arr13.size)\n",
    "\n",
    "# 2. speed of numpy array is more then list \n",
    "import time \n",
    "x = range(100000)\n",
    "y = range(100000, 200000)\n",
    "\n",
    "start_time = time.time()\n",
    "c = [x+y for x,y in zip(x,y)]\n",
    "end_time = time.time()\n",
    "print(end_time - start_time)\n",
    "\n",
    "# now np array\n",
    "a = np.arange(100000)\n",
    "b = np.arange(100000, 200000)\n",
    "start_t = time.time()\n",
    "d = a+b\n",
    "end_t =  time.time()\n",
    "print(end_t - start_t)"
   ]
  },
  {
   "cell_type": "code",
   "execution_count": 87,
   "id": "34c62dbd-0727-4a1b-8974-9fac940ac629",
   "metadata": {},
   "outputs": [
    {
     "name": "stdout",
     "output_type": "stream",
     "text": [
      "1st [ 0  1  2  3  4  5  6  7  8  9 10 11 12 13 14 15 16 17 18 19 20 21 22 23]\n",
      "2nd\n",
      " [[ 0  1  2  3]\n",
      " [ 4  5  6  7]\n",
      " [ 8  9 10 11]\n",
      " [12 13 14 15]\n",
      " [16 17 18 19]\n",
      " [20 21 22 23]]\n",
      "value at index 2 is: 3 \n",
      "last index value: 3\n",
      "No Iteration:\n",
      "[0 1 2 3]\n",
      "[4 5 6 7]\n",
      "[ 8  9 10 11]\n",
      "[12 13 14 15]\n",
      "[16 17 18 19]\n",
      "[20 21 22 23]\n",
      "Iteration:\n",
      "0\n",
      "1\n",
      "2\n",
      "3\n",
      "4\n",
      "5\n",
      "6\n",
      "7\n",
      "8\n",
      "9\n",
      "10\n",
      "11\n",
      "12\n",
      "13\n",
      "14\n",
      "15\n",
      "16\n",
      "17\n",
      "18\n",
      "19\n",
      "20\n",
      "21\n",
      "22\n",
      "23\n"
     ]
    }
   ],
   "source": [
    "### indexing, slicing and iteration\n",
    "arr15 = np.arange(24)\n",
    "print(\"1st\", arr15)\n",
    "\n",
    "arr16 = arr15.reshape(6, 4)\n",
    "print(\"2nd\\n\", arr16)\n",
    "\n",
    "i = arr1[2]\n",
    "j = arr1[-1]\n",
    "print(\"value at index 2 is:\", i, \"\\nlast index value:\", j)\n",
    "\n",
    "arr16[1]  # --> array([4, 5, 6, 7])\n",
    "arr16[1:3] #array([[ 4,  5,  6,  7],\n",
    "            #      [ 8,  9, 10, 11]])\n",
    "\n",
    "arr16[0:7:3]    # similar to that equidistance in arange\n",
    "arr16[:, 2]     # : means all rows and ,2 tell which col u need \n",
    "                # -->  array([ 2,  6, 10, 14, 18, 22])\n",
    "arr16[:, 1:3]   # --> array([[ 1,  2],\n",
    "                    #       [ 5,  6],\n",
    "                    #       [ 9, 10],\n",
    "                    #       [13, 14],\n",
    "                    #       [17, 18],\n",
    "                    #       [21, 22]])\n",
    "\n",
    "arr16[3, 1:3]       # --> array([13, 14])\n",
    "arr16[4:6, 2:4]     # --> array([[18, 19],\n",
    "                    #           [22, 23]])\n",
    "\n",
    "\n",
    "## iteration \n",
    "print(\"No Iteration:\")\n",
    "for i in arr16:\n",
    "    print(i)\n",
    "\n",
    "print(\"Iteration:\")\n",
    "for i in np.nditer(arr16):\n",
    "    print(i) \n"
   ]
  },
  {
   "cell_type": "code",
   "execution_count": 92,
   "id": "46b810d4-07f0-41db-8ec1-b118b5700d5b",
   "metadata": {},
   "outputs": [],
   "source": [
    "### Numpy Operations\n",
    "arr_x = np.array([1, 2, 3])\n",
    "arr_y = np.array([4, 5, 6])\n"
   ]
  },
  {
   "cell_type": "code",
   "execution_count": 125,
   "id": "3f960f44-bf18-4a95-8415-1cf19fe777b7",
   "metadata": {},
   "outputs": [
    {
     "data": {
      "text/plain": [
       "array([ 2.71828183,  7.3890561 , 20.08553692])"
      ]
     },
     "execution_count": 125,
     "metadata": {},
     "output_type": "execute_result"
    }
   ],
   "source": [
    "arr_x + arr_y          # --> element wise Additon  \n",
    "arr_x * arr_y          # --> element wise Mutltiplication \n",
    "arr_x - arr_y          \n",
    "\n",
    "arr_x * 6              # --> array([ 6, 12, 18])\n",
    "arr_x > 1              # --> array([False,  True,  True])\n",
    "arr3 = np.arange(6).reshape(2,3)  # --> array([[0, 1, 2],\n",
    "                                  #          [3, 4, 5]])\n",
    "arr4 = np.arange(6, 12).reshape(3, 2) # --> array([[ 6,  7],\n",
    "                                      #         [ 8,  9],\n",
    "                                      #         [10, 11]]) \n",
    "# order should be the same \n",
    "arr3.dot(arr4)         #  --> array([[ 28,  31],\n",
    "                       #            [100, 112]])\n",
    "\n",
    "arr3.max()\n",
    "\n",
    "arr4.min()  \n",
    "arr3.min(axis = 0)      # every col min element  --> rray([0, 1, 2])\n",
    "arr3.min(axis = 1)      # every row min element  --> array([0, 3])\n",
    "\n",
    "arr3.sum()              # --> np.int64(15)\n",
    "arr3.sum(axis = 0)      # --> array([3, 5, 7])\n",
    "\n",
    "arr3.mean()               # --> np.float64(2.5)\n",
    "arr3.mean(axis=0)         # --> array([1.5, 2.5, 3.5])\n",
    "\n",
    "arr3.std()              # --> np.float64(1.707825127659933)\n",
    "\n",
    "\n",
    "np.sin(arr3)\n",
    "np.median(arr3)\n",
    "np.exp(arr_x)"
   ]
  },
  {
   "cell_type": "code",
   "execution_count": 139,
   "id": "ef8e5fe5-1a6f-4ce8-8659-d0addbf03b29",
   "metadata": {},
   "outputs": [
    {
     "data": {
      "text/plain": [
       "[array([[0, 1, 2]]), array([[3, 4, 5]])]"
      ]
     },
     "execution_count": 139,
     "metadata": {},
     "output_type": "execute_result"
    }
   ],
   "source": [
    "### Reshapign Numpy Arrays\n",
    "\n",
    "# 1. Ravel - do convert nd-array to 1D array \n",
    "arr4.ravel()\n",
    " \n",
    "# 2. Reshape - seen \n",
    "\n",
    "# 3. Transpose\n",
    "A = arr4.transpose()\n",
    "A\n",
    "# 4. Stacking\n",
    "arr1 = np.arange(12,18).reshape(2,3)\n",
    "arr1\n",
    "np.hstack((arr1, arr3))    # in hstack(tup, dtype, casting) \n",
    "                        # -->    array([[12, 13, 14,  0,  1,  2],\n",
    "                        #              [15, 16, 17,  3,  4,  5]])\n",
    "\n",
    "np.vstack((arr3, arr1))         # -->   array([[ 0,  1,  2],\n",
    "                                #              [ 3,  4,  5],\n",
    "                                #              [12, 13, 14],\n",
    "                                #              [15, 16, 17]])\n",
    "\n",
    "# 5. Splitting\n",
    "np.hsplit(arr3, 3)        # --> [array([[0], [3]]),\n",
    "                          #      array([[1], [4]]),\n",
    "                          #      array([[2], [5]])]\n",
    "\n",
    "np.vsplit(arr3, 2)        # --> [array([[0, 1, 2]]), array([[3, 4, 5]])]"
   ]
  },
  {
   "cell_type": "code",
   "execution_count": 141,
   "id": "7a5ebf8f-0d58-49fd-9f3b-133c4a4c48ae",
   "metadata": {},
   "outputs": [
    {
     "data": {
      "text/plain": [
       "array([[ 0,  1,  2,  3],\n",
       "       [ 8,  9, 10, 11],\n",
       "       [20, 21, 22, 23]])"
      ]
     },
     "execution_count": 141,
     "metadata": {},
     "output_type": "execute_result"
    }
   ],
   "source": [
    "### FANCY INDEXING \n",
    "\n",
    "# used when require a index that is not continuous \n",
    "arr8 = np.arange(24).reshape(6, 4)\n",
    "arr8\n",
    "arr8[[0,2,5]]  # this is fancy indexing \n"
   ]
  },
  {
   "cell_type": "code",
   "execution_count": 149,
   "id": "ceceda52-fc2a-4012-b2c4-2fdca1c4aa7f",
   "metadata": {},
   "outputs": [
    {
     "data": {
      "text/plain": [
       "array([85, 67, 89, 91], dtype=int32)"
      ]
     },
     "execution_count": 149,
     "metadata": {},
     "output_type": "execute_result"
    }
   ],
   "source": [
    "### INDEXING USING BOOLEAN ARRAYS\n",
    "\n",
    "B = np.random.randint(low=1, high=100, size=20).reshape(4, 5)\n",
    "B\n",
    "B > 60\n",
    "B[(B>60) & (B%2 != 0)]     # greater thna 60 and are odd "
   ]
  },
  {
   "cell_type": "code",
   "execution_count": null,
   "id": "576a07d8-0cda-473a-98d3-f738ea4de3db",
   "metadata": {},
   "outputs": [],
   "source": [
    "### GRAPHS USING NUMPY"
   ]
  },
  {
   "cell_type": "code",
   "execution_count": 151,
   "id": "912bc2ff-cb88-494e-97df-b2df2e48a5af",
   "metadata": {},
   "outputs": [],
   "source": [
    "### BROADCASTING \n",
    "# - RULES FOR BROADCASTING "
   ]
  },
  {
   "cell_type": "code",
   "execution_count": 152,
   "id": "5d39fae1-c3f4-479a-977c-24e240b6755f",
   "metadata": {},
   "outputs": [
    {
     "data": {
      "text/plain": [
       "0.9437999131500148"
      ]
     },
     "execution_count": 152,
     "metadata": {},
     "output_type": "execute_result"
    }
   ],
   "source": [
    "### RANDOM LIBRARY\n",
    "np.random.random()"
   ]
  },
  {
   "cell_type": "code",
   "execution_count": 159,
   "id": "815e5c43-310e-44a7-a6c7-1539b60ea294",
   "metadata": {},
   "outputs": [
    {
     "data": {
      "text/plain": [
       "0.8701241366272119"
      ]
     },
     "execution_count": 159,
     "metadata": {},
     "output_type": "execute_result"
    }
   ],
   "source": [
    "np.random.seed(25)\n",
    "np.random.random()"
   ]
  },
  {
   "cell_type": "code",
   "execution_count": 160,
   "id": "22913314-d822-4fb3-8d58-48d25269df30",
   "metadata": {},
   "outputs": [
    {
     "data": {
      "text/plain": [
       "7.0759385007079185"
      ]
     },
     "execution_count": 160,
     "metadata": {},
     "output_type": "execute_result"
    }
   ],
   "source": [
    "np.random.uniform(3, 10) # low and high and size"
   ]
  },
  {
   "cell_type": "code",
   "execution_count": 179,
   "id": "451502a9-805a-4dc6-b06d-f9490dec3ff1",
   "metadata": {},
   "outputs": [
    {
     "name": "stdout",
     "output_type": "stream",
     "text": [
      "[[39.00501007 38.55764178 54.51610872 17.03573173]\n",
      " [65.55706854 40.65906351 27.75308632 27.84513393]\n",
      " [47.13779316 76.44537032 45.713508   60.23706848]\n",
      " [60.69787105 78.20899645 32.69269047 75.1615426 ]\n",
      " [48.96770705 74.49240461 73.76663114 23.20890773]]\n",
      "Shape: (5, 4)\n",
      "np.argmin(a): 3\n",
      "np.argmax(a): 13\n",
      "[]\n"
     ]
    }
   ],
   "source": [
    "a = np.random.uniform(5,80, 20).reshape(5,4)\n",
    "\n",
    "print(a)\n",
    "print(\"Shape:\", a.shape)\n",
    "print(\"np.argmin(a):\", np.argmin(a))\n",
    "print(\"np.argmax(a):\", np.argmax(a))\n",
    "c = a[a%2 == 1] = -1\n",
    "print(c)"
   ]
  },
  {
   "cell_type": "code",
   "execution_count": null,
   "id": "02473c62-1864-48f5-ac38-84b2459b5b8c",
   "metadata": {},
   "outputs": [],
   "source": []
  }
 ],
 "metadata": {
  "kernelspec": {
   "display_name": "Python [conda env:base] *",
   "language": "python",
   "name": "conda-base-py"
  },
  "language_info": {
   "codemirror_mode": {
    "name": "ipython",
    "version": 3
   },
   "file_extension": ".py",
   "mimetype": "text/x-python",
   "name": "python",
   "nbconvert_exporter": "python",
   "pygments_lexer": "ipython3",
   "version": "3.13.5"
  }
 },
 "nbformat": 4,
 "nbformat_minor": 5
}
